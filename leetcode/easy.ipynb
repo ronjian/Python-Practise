{
 "cells": [
  {
   "cell_type": "markdown",
   "metadata": {},
   "source": [
    "- TO DO: https://leetcode.com/problemset/algorithms/?difficulty=Easy&status=Todo&listId=79h8rn6\n",
    "- ALL: https://leetcode.com/problemset/algorithms/?difficulty=Easy&listId=wpwgkgt"
   ]
  },
  {
   "cell_type": "code",
   "execution_count": 1,
   "metadata": {},
   "outputs": [
    {
     "data": {
      "text/plain": [
       "(0, 1)"
      ]
     },
     "execution_count": 1,
     "metadata": {},
     "output_type": "execute_result"
    }
   ],
   "source": [
    "# https://leetcode.com/problems/two-sum/description/\n",
    "nums = [2, 7, 11, 15]\n",
    "target = 9\n",
    "\n",
    "complement = []\n",
    "def two_sum(nums, target):\n",
    "    for i, x in enumerate(nums):\n",
    "        if x not in complement:\n",
    "            complement.append(target - x)\n",
    "        else:\n",
    "            return (complement.index(x), i)\n",
    "two_sum(nums, target)"
   ]
  },
  {
   "cell_type": "code",
   "execution_count": 19,
   "metadata": {},
   "outputs": [
    {
     "name": "stdout",
     "output_type": "stream",
     "text": [
      "321\n",
      "-321\n",
      "21\n"
     ]
    }
   ],
   "source": [
    "# https://leetcode.com/problems/reverse-integer/description/\n",
    "num1 = 123\n",
    "num2 = -123\n",
    "num3 = 120\n",
    "def reverse_interger(num):\n",
    "    str_num = str(num)\n",
    "    reverse_list = []\n",
    "    sign = ''\n",
    "    if str_num[0] in ('-','+'):\n",
    "        sign = str_num[0]\n",
    "        str_num = str_num[1:]\n",
    "    if str_num[-1] == 0:\n",
    "        str_num = str_num[:-1]\n",
    "    for char in str_num:\n",
    "        reverse_list.insert(0, char)\n",
    "    output = int(sign + ''.join(reverse_list))\n",
    "    if output > 2147483647 or output < -2147483648:\n",
    "        output = 0\n",
    "    return output\n",
    "print(reverse_interger(num1))\n",
    "print(reverse_interger(num2))\n",
    "print(reverse_interger(num3))"
   ]
  },
  {
   "cell_type": "code",
   "execution_count": 38,
   "metadata": {},
   "outputs": [
    {
     "name": "stdout",
     "output_type": "stream",
     "text": [
      "True\n",
      "False\n",
      "False\n",
      "here\n",
      "False\n"
     ]
    }
   ],
   "source": [
    "# https://leetcode.com/problems/valid-parentheses/description/\n",
    "s1 = \"()[]{}\"\n",
    "s2 = \"(]\"\n",
    "s3 = \"([)]\"\n",
    "s4 = \"()[]]\"\n",
    "def isValid(s):\n",
    "    stock = []\n",
    "    for char in s:\n",
    "        if char == '(':\n",
    "            stock.append(')')\n",
    "        elif char == '[':\n",
    "            stock.append(']')\n",
    "        elif char == '{':\n",
    "            stock.append('}')\n",
    "        elif char in ('}', ')', ']'):\n",
    "            try:\n",
    "                if stock.pop() != char:\n",
    "                    return False\n",
    "            except IndexError:\n",
    "                return False\n",
    "    if len(stock) > 0:\n",
    "        return False\n",
    "    return True\n",
    "print(isValid(s1))\n",
    "print(isValid(s2))\n",
    "print(isValid(s3))\n",
    "print(isValid(s4))"
   ]
  },
  {
   "cell_type": "code",
   "execution_count": 20,
   "metadata": {},
   "outputs": [
    {
     "name": "stdout",
     "output_type": "stream",
     "text": [
      "[1, 1, 2, 3, 4, 4, 5]\n",
      "[1, 3, 4, 5]\n",
      "[1, 3, 4, 5, 9, 10]\n",
      "[1, 3, 3, 3, 3, 3, 3, 3, 4, 5]\n"
     ]
    }
   ],
   "source": [
    "# https://leetcode.com/problems/merge-two-sorted-lists/\n",
    "def merge_two_lists(l1, l2):\n",
    "    l1_idx = 0\n",
    "    l2_idx = 0\n",
    "    output = []\n",
    "    l1_len = len(l1)\n",
    "    l2_len = len(l2)\n",
    "    while l1_idx < l1_len or l2_idx < l2_len:\n",
    "        if l1_idx == l1_len:\n",
    "            output.append(l2[l2_idx])\n",
    "            l2_idx +=1\n",
    "        elif l2_idx == l2_len:\n",
    "            output.append(l1[l1_idx])\n",
    "            l1_idx +=1\n",
    "        elif l1[l1_idx] < l2[l2_idx]:\n",
    "            output.append(l1[l1_idx])\n",
    "            l1_idx +=1\n",
    "        else:\n",
    "            output.append(l2[l2_idx])\n",
    "            l2_idx +=1\n",
    "    return output\n",
    "l1 = [1, 2, 4]\n",
    "l2 = [1, 3, 4, 5]\n",
    "print(merge_two_lists(l1, l2))\n",
    "l1 = []\n",
    "l2 = [1, 3, 4, 5]\n",
    "print(merge_two_lists(l1, l2))\n",
    "l1 = [9, 10]\n",
    "l2 = [1, 3, 4, 5]\n",
    "print(merge_two_lists(l1, l2))\n",
    "l1 = [3, 3,3,3,3,3]\n",
    "l2 = [1, 3, 4, 5]\n",
    "print(merge_two_lists(l1, l2))"
   ]
  },
  {
   "cell_type": "code",
   "execution_count": 2,
   "metadata": {},
   "outputs": [
    {
     "name": "stdout",
     "output_type": "stream",
     "text": [
      "6\n"
     ]
    }
   ],
   "source": [
    "# https://leetcode.com/problems/maximum-subarray/description/\n",
    "A = [-2,1,-3,4,-1,2,1,-5,4]\n",
    "def max_sub_array(A):\n",
    "    if not A:\n",
    "        return 0\n",
    "\n",
    "    curSum = maxSum = A[0]\n",
    "    for num in A[1:]:\n",
    "        curSum = max(num, curSum + num)\n",
    "        maxSum = max(maxSum, curSum)\n",
    "\n",
    "    return maxSum\n",
    "print(max_sub_array(A))"
   ]
  },
  {
   "cell_type": "code",
   "execution_count": 44,
   "metadata": {},
   "outputs": [
    {
     "name": "stdout",
     "output_type": "stream",
     "text": [
      "89\n",
      "89\n"
     ]
    }
   ],
   "source": [
    "# https://leetcode.com/problems/climbing-stairs/description/\n",
    "# brute force recursive version, poor performance\n",
    "def climb_stairs1(N):\n",
    "    if N > 2:\n",
    "        count = climb_stairs(N - 1) + climb_stairs(N - 2)\n",
    "    elif N == 1:\n",
    "        count = 1\n",
    "    elif N == 2:\n",
    "        count = 2\n",
    "    else:\n",
    "        count = 0\n",
    "    return count \n",
    "print(climb_stairs1(10))\n",
    "\n",
    "# dynamic programming\n",
    "def climb_stairs2(N):\n",
    "    if N == 1:\n",
    "        return 1\n",
    "    if N == 2:\n",
    "        return 2\n",
    "    # N >= 3\n",
    "    l = [0] * N\n",
    "    l[0] = 1\n",
    "    l[1] = 2\n",
    "    for i in range(2, N):\n",
    "        l[i] = l[i - 1] + l[i - 2]\n",
    "    return l[-1]\n",
    "print(climb_stairs2(10))"
   ]
  },
  {
   "cell_type": "code",
   "execution_count": 51,
   "metadata": {},
   "outputs": [
    {
     "name": "stdout",
     "output_type": "stream",
     "text": [
      "5\n"
     ]
    }
   ],
   "source": [
    "# https://leetcode.com/problems/single-number/description/\n",
    "nums = [1, 1, 2, 2, 3, 3, 5]\n",
    "def single_number(nums):\n",
    "    output = nums[0]\n",
    "    for i in range(1, len(nums)):\n",
    "        output ^= nums[i]\n",
    "    return output\n",
    "print(single_number(nums))"
   ]
  },
  {
   "cell_type": "code",
   "execution_count": 64,
   "metadata": {},
   "outputs": [],
   "source": [
    "# https://leetcode.com/problems/happy-number/description/\n",
    "def happy_number(num):\n",
    "    res_stock = []\n",
    "    while True:\n",
    "        print(num)\n",
    "        str_num = str(num)\n",
    "        num = 0\n",
    "        for x in str_num:\n",
    "            num += int(x) ** 2\n",
    "        if num in res_stock:\n",
    "            return False\n",
    "        elif num == 1:\n",
    "            return True\n",
    "        else:\n",
    "            res_stock.append(num)"
   ]
  },
  {
   "cell_type": "code",
   "execution_count": 66,
   "metadata": {},
   "outputs": [
    {
     "name": "stdout",
     "output_type": "stream",
     "text": [
      "19\n",
      "82\n",
      "68\n",
      "100\n"
     ]
    },
    {
     "data": {
      "text/plain": [
       "True"
      ]
     },
     "execution_count": 66,
     "metadata": {},
     "output_type": "execute_result"
    }
   ],
   "source": [
    "happy_number(19)"
   ]
  },
  {
   "cell_type": "code",
   "execution_count": 128,
   "metadata": {},
   "outputs": [],
   "source": [
    "# https://leetcode.com/problems/convert-sorted-array-to-binary-search-tree/description/\n",
    "from math import ceil\n",
    "def sorted_array_to_BST(L):\n",
    "    res = []\n",
    "    helper([L], res)\n",
    "    print(res)\n",
    "    while len(res) > 0 and res[-1] is None:\n",
    "        res = res[:-1]\n",
    "    return res\n",
    "def helper(L, res):\n",
    "    new_L = []\n",
    "    recursion = False\n",
    "    for l in L:\n",
    "        length = len(l)\n",
    "        if length > 0:\n",
    "            middle = ceil((length + 1) / 2) - 1\n",
    "            res.append(l[middle])\n",
    "            new_L.append(l[:middle])\n",
    "            new_L.append(l[middle + 1:])\n",
    "            recursion = True\n",
    "        else:\n",
    "            res.append(None)\n",
    "    if recursion:\n",
    "        helper(new_L, res)"
   ]
  },
  {
   "cell_type": "code",
   "execution_count": 129,
   "metadata": {},
   "outputs": [
    {
     "name": "stdout",
     "output_type": "stream",
     "text": [
      "[0, -3, 9, -10, None, 5, None, None, None, None, None]\n",
      "[0, -3, 9, -10, None, 5]\n",
      "[None]\n",
      "[]\n"
     ]
    }
   ],
   "source": [
    "print(sorted_array_to_BST([-10,-3,0,5,9]))\n",
    "print(sorted_array_to_BST([]))"
   ]
  },
  {
   "cell_type": "code",
   "execution_count": 2,
   "metadata": {},
   "outputs": [
    {
     "name": "stdout",
     "output_type": "stream",
     "text": [
      "['test', 'test', 'test', 'test', 'test', 'test', 'test', 'test', 'test', 'test']\n"
     ]
    }
   ],
   "source": [
    "\"\"\"\n",
    "sanity check list behavior in recursion\n",
    "\"\"\"\n",
    "def recur_func(L):\n",
    "    if len(L) < 10:\n",
    "        L.append(\"test\")\n",
    "        recur_func(L)\n",
    "L = []\n",
    "recur_func(L)\n",
    "print(L)"
   ]
  },
  {
   "cell_type": "code",
   "execution_count": 27,
   "metadata": {},
   "outputs": [
    {
     "name": "stdout",
     "output_type": "stream",
     "text": [
      "True\n",
      "False\n",
      "True\n"
     ]
    }
   ],
   "source": [
    "# https://leetcode.com/problems/valid-anagram/description/\n",
    "def valid_anagram(s, t):\n",
    "    d = {}\n",
    "    for x in s:\n",
    "        if d.get(x) is None:\n",
    "            d[x] = 1\n",
    "        else:\n",
    "            d[x] += 1\n",
    "    for x in t:\n",
    "        if d.get(x) is None or d[x] == 0:\n",
    "            return False\n",
    "        elif d[x] == 1:\n",
    "            d.pop(x)\n",
    "        else:\n",
    "            d[x] -= 1\n",
    "    if len(d) == 0:\n",
    "        return True\n",
    "    else:\n",
    "        return False\n",
    "\n",
    "s = \"anagram\"\n",
    "t = \"nagaram\"\n",
    "print(valid_anagram(s, t))\n",
    "s = \"rat\"\n",
    "t = \"car\"\n",
    "print(valid_anagram(s, t))\n",
    "s = \"abbdc\"\n",
    "t = \"abbcd\"\n",
    "print(valid_anagram(s, t))"
   ]
  },
  {
   "cell_type": "code",
   "execution_count": 34,
   "metadata": {},
   "outputs": [
    {
     "data": {
      "text/plain": [
       "23"
      ]
     },
     "execution_count": 34,
     "metadata": {},
     "output_type": "execute_result"
    }
   ],
   "source": [
    "# https://leetcode.com/problems/house-robber/description/\n",
    "\"\"\"\n",
    "f(0) = nums[0]\n",
    "f(1) = max(num[0], num[1])\n",
    "f(k) = max(f(k-2) + nums[k], f(k-1) )\n",
    "\"\"\"\n",
    "def house_robber(nums):\n",
    "    last, now = 0, 0\n",
    "    for i in nums:\n",
    "        last, now = now, max(last + i, now)\n",
    "    return now\n",
    "nums = [10, 3, 8, 4, 1, 3, 1, 2]\n",
    "house_robber(nums)"
   ]
  },
  {
   "cell_type": "code",
   "execution_count": 1,
   "metadata": {},
   "outputs": [
    {
     "data": {
      "text/plain": [
       "[[1], [1, 1], [1, 2, 1], [1, 3, 3, 1], [1, 4, 6, 4, 1], [1, 5, 10, 10, 5, 1]]"
      ]
     },
     "execution_count": 1,
     "metadata": {},
     "output_type": "execute_result"
    }
   ],
   "source": [
    "# https://leetcode.com/problems/pascals-triangle/description/\n",
    "\n",
    "a = [\n",
    "     [1],\n",
    "    [1,1],\n",
    "   [1,2,1],\n",
    "  [1,3,3,1],\n",
    " [1,4,6,4,1]\n",
    "]\n",
    "\n",
    "def pascals_triangle(n):\n",
    "    L = []\n",
    "    if n == 0:\n",
    "        return L\n",
    "    line1 = [1]\n",
    "    L.append(line1)\n",
    "    if n == 1:\n",
    "        return L\n",
    "    line2 = [1, 1]\n",
    "    L.append(line2)\n",
    "    if n == 2:\n",
    "        return L\n",
    "    for i in range(3, n + 1):\n",
    "        new_line = [1]\n",
    "        prev = L[-1][0]\n",
    "        for x in L[-1][1:]:\n",
    "            new_line.append(x + prev)\n",
    "            prev = x\n",
    "        new_line.append(1)\n",
    "        L.append(new_line)\n",
    "    return L\n",
    "pascals_triangle(6)"
   ]
  },
  {
   "cell_type": "code",
   "execution_count": 9,
   "metadata": {},
   "outputs": [
    {
     "data": {
      "text/plain": [
       "False"
      ]
     },
     "execution_count": 9,
     "metadata": {},
     "output_type": "execute_result"
    }
   ],
   "source": [
    "# https://leetcode.com/problems/contains-duplicate/description/\n",
    "def containsDuplicate(nums):\n",
    "        \"\"\"\n",
    "        :type nums: List[int]\n",
    "        :rtype: bool\n",
    "        \"\"\"\n",
    "        d = {}\n",
    "        if nums == []:\n",
    "            return False\n",
    "        else:\n",
    "            for x in nums:\n",
    "                if d.get(x) is None:\n",
    "                    d[x] = \"appeared\"\n",
    "                else:\n",
    "                    return True\n",
    "        return False\n",
    "nums = [1,2,3,1]\n",
    "nums = []\n",
    "nums = [0]\n",
    "containsDuplicate(nums)"
   ]
  },
  {
   "cell_type": "code",
   "execution_count": 11,
   "metadata": {},
   "outputs": [
    {
     "data": {
      "text/plain": [
       "False"
      ]
     },
     "execution_count": 11,
     "metadata": {},
     "output_type": "execute_result"
    }
   ],
   "source": [
    "# https://leetcode.com/problems/valid-anagram/description/\n",
    "def isAnagram(s, t):\n",
    "    \"\"\"\n",
    "    :type s: str\n",
    "    :type t: str\n",
    "    :rtype: bool\n",
    "    \"\"\"\n",
    "    d = {}\n",
    "    if len(s) != len(t): return False\n",
    "    for i in range(len(s)):\n",
    "        # add element from s\n",
    "        if d.get(s[i]) is None:\n",
    "            d[s[i]] = 1\n",
    "        else:\n",
    "            d[s[i]] += 1\n",
    "        # eliminate element from t\n",
    "        if d.get(t[i]) is None:\n",
    "            d[t[i]] = -1\n",
    "        else:\n",
    "            d[t[i]] -= 1\n",
    "    for x in d.values():\n",
    "        if x != 0:\n",
    "            return False\n",
    "    return True\n",
    "s, t = \"anagram\", \"nagaram\"\n",
    "s, t = \"rat\", \"car\"\n",
    "isAnagram(s, t)"
   ]
  },
  {
   "cell_type": "code",
   "execution_count": 1,
   "metadata": {},
   "outputs": [
    {
     "data": {
      "text/plain": [
       "[5, 6, 7, 1, 2, 3, 4]"
      ]
     },
     "execution_count": 1,
     "metadata": {},
     "output_type": "execute_result"
    }
   ],
   "source": [
    "# https://leetcode.com/problems/rotate-array/description/\n",
    "def rotate(nums, k):\n",
    "    \"\"\"\n",
    "    :type nums: List[int]\n",
    "    :type k: int\n",
    "    :rtype: void Do not return anything, modify nums in-place instead.\n",
    "    \"\"\"\n",
    "    return nums[-k:] + nums[:-k]\n",
    "num = [1,2,3,4,5,6,7]\n",
    "k = 3\n",
    "rotate(num, k)"
   ]
  },
  {
   "cell_type": "code",
   "execution_count": 24,
   "metadata": {},
   "outputs": [
    {
     "data": {
      "text/plain": [
       "[1]"
      ]
     },
     "execution_count": 24,
     "metadata": {},
     "output_type": "execute_result"
    }
   ],
   "source": [
    "# https://leetcode.com/problems/move-zeroes/description/\n",
    "def moveZeroes(nums):\n",
    "    zero_idx = []\n",
    "    for i, num in enumerate(nums):\n",
    "        if num == 0:\n",
    "            zero_idx.append(i)\n",
    "    for j, idx in enumerate(zero_idx):\n",
    "        nums.append(nums.pop(idx - j))\n",
    "\n",
    "nums = [0,1,0,3,0, 0, 20, 12, 0]\n",
    "moveZeroes(nums)\n",
    "nums"
   ]
  },
  {
   "cell_type": "code",
   "execution_count": 26,
   "metadata": {},
   "outputs": [
    {
     "data": {
      "text/plain": [
       "['1',\n",
       " '2',\n",
       " 'Fizz',\n",
       " '4',\n",
       " 'Buzz',\n",
       " 'Fizz',\n",
       " '7',\n",
       " '8',\n",
       " 'Fizz',\n",
       " 'Buzz',\n",
       " '11',\n",
       " 'Fizz',\n",
       " '13',\n",
       " '14',\n",
       " 'FizzBuzz']"
      ]
     },
     "execution_count": 26,
     "metadata": {},
     "output_type": "execute_result"
    }
   ],
   "source": [
    "# https://leetcode.com/problems/fizz-buzz/description/\n",
    "def fizzBuzz(n):\n",
    "    \"\"\"\n",
    "    :type n: int\n",
    "    :rtype: List[str]\n",
    "    \"\"\"\n",
    "    res_l = []\n",
    "    for i in range(1, n + 1):\n",
    "        s = \"\"\n",
    "        if i % 3 == 0:\n",
    "            s += \"Fizz\"\n",
    "        if i % 5 == 0:\n",
    "            s += \"Buzz\"\n",
    "        if i % 3 != 0 and i % 5 != 0:\n",
    "            s += str(i)\n",
    "        res_l.append(s)\n",
    "    return res_l\n",
    "\n",
    "n = 15\n",
    "fizzBuzz(n)"
   ]
  },
  {
   "cell_type": "code",
   "execution_count": 37,
   "metadata": {},
   "outputs": [
    {
     "data": {
      "text/plain": [
       "2"
      ]
     },
     "execution_count": 37,
     "metadata": {},
     "output_type": "execute_result"
    }
   ],
   "source": [
    "# https://leetcode.com/problems/missing-number/description/\n",
    "def missingNumber(nums):\n",
    "    \"\"\"\n",
    "    :type nums: List[int]\n",
    "    :rtype: int\n",
    "    \"\"\"\n",
    "    standard_sum = 0\n",
    "    actual_sum = 0\n",
    "    for i, x in enumerate(nums):\n",
    "        standard_sum += i\n",
    "        actual_sum += x\n",
    "    return standard_sum + (i + 1) - actual_sum\n",
    "\n",
    "nums = [3,0,1]\n",
    "missingNumber(nums)"
   ]
  },
  {
   "cell_type": "code",
   "execution_count": 38,
   "metadata": {},
   "outputs": [
    {
     "data": {
      "text/plain": [
       "701"
      ]
     },
     "execution_count": 38,
     "metadata": {},
     "output_type": "execute_result"
    }
   ],
   "source": [
    "# https://leetcode.com/problems/excel-sheet-column-number/description/\n",
    "def titleToNumber(s):\n",
    "    \"\"\"\n",
    "    :type s: str\n",
    "    :rtype: int\n",
    "    \"\"\"\n",
    "    char_num_map = {chr(i + 64): i for i in range(1, 27)}\n",
    "    j = 0\n",
    "    res = 0\n",
    "    for x in s[::-1]:\n",
    "        res += char_num_map[x] * (26 ** j)\n",
    "        j += 1\n",
    "    return res\n",
    "\n",
    "s = \"ZY\"\n",
    "titleToNumber(s)"
   ]
  },
  {
   "cell_type": "code",
   "execution_count": 4,
   "metadata": {},
   "outputs": [
    {
     "data": {
      "text/plain": [
       "3"
      ]
     },
     "execution_count": 4,
     "metadata": {},
     "output_type": "execute_result"
    }
   ],
   "source": [
    "# https://leetcode.com/problems/majority-element/description/\n",
    "# https://en.wikipedia.org/wiki/Boyer%E2%80%93Moore_majority_vote_algorithm\n",
    "# Initialize an element m and a counter i with i = 0\n",
    "# For each element x of the input sequence:\n",
    "#     If i = 0, then assign m = x and i = 1\n",
    "#     else if m = x, then assign i = i + 1\n",
    "#     else assign i = i − 1\n",
    "# Return m\n",
    "def majorityElement(nums):\n",
    "    \"\"\"\n",
    "    :type nums: List[int]\n",
    "    :rtype: int\n",
    "    \"\"\"\n",
    "    m, cnt = None, 0\n",
    "    for x in nums:\n",
    "        if cnt == 0:\n",
    "            m, cnt = x, 1\n",
    "        elif x == m:\n",
    "            cnt += 1\n",
    "        else:\n",
    "            cnt -= 1\n",
    "    return m\n",
    "\n",
    "nums = [3,2,3]\n",
    "majorityElement(nums)"
   ]
  },
  {
   "cell_type": "code",
   "execution_count": 31,
   "metadata": {},
   "outputs": [
    {
     "data": {
      "text/plain": [
       "4"
      ]
     },
     "execution_count": 31,
     "metadata": {},
     "output_type": "execute_result"
    }
   ],
   "source": [
    "# https://leetcode.com/problems/count-primes/description/\n",
    "def countPrimes(n):\n",
    "    \"\"\"\n",
    "    :type n: int\n",
    "    :rtype: int\n",
    "    \"\"\"\n",
    "    # initialize all elements start from 2 as prime\n",
    "    is_primes = [False] * n\n",
    "    for i in range(2, n):\n",
    "        is_primes[i] = True\n",
    "    # eliminate non-primes \n",
    "    # three tricks to reduce complexity\n",
    "    # - base_element must be start from 2 and end with n ^ 0.5\n",
    "    # - only go on labeling if base_element is still prime\n",
    "    # - start label with base_element ^ 2 \n",
    "    for base_element in range(2, int(n ** 0.5) + 1):\n",
    "        # if base element is still prime, check its coresponding numbers\n",
    "        if is_primes[base_element]:\n",
    "            # start from base_element ^ 2, check base_element ^ 2 + n * base_element\n",
    "            non_prime = base_element ** 2\n",
    "            while non_prime < n:\n",
    "                is_primes[non_prime] = False\n",
    "                non_prime += base_element\n",
    "    primes_cnt = 0\n",
    "    for x in is_primes:\n",
    "        if x:\n",
    "            primes_cnt += 1\n",
    "    return primes_cnt\n",
    "\n",
    "n = 10\n",
    "countPrimes(n)"
   ]
  },
  {
   "cell_type": "code",
   "execution_count": 1,
   "metadata": {},
   "outputs": [
    {
     "data": {
      "text/plain": [
       "3"
      ]
     },
     "execution_count": 1,
     "metadata": {},
     "output_type": "execute_result"
    }
   ],
   "source": [
    "# https://leetcode.com/problems/maximum-depth-of-binary-tree/description/\n",
    "def explore(node, depth):\n",
    "    left_res, right_res = depth, depth\n",
    "    if node.left:\n",
    "        left_res = explore(node.left, depth + 1)\n",
    "    if node.right:\n",
    "        right_res = explore(node.right, depth + 1)\n",
    "    res = max(left_res, right_res)\n",
    "    return res\n",
    "def maxDepth(root):\n",
    "    \"\"\"\n",
    "    :type root: TreeNode\n",
    "    :rtype: int\n",
    "    \"\"\"\n",
    "    if root:\n",
    "        return explore(root, 1)\n",
    "    else:\n",
    "        return 0\n",
    "\n",
    "# Definition for a binary tree node.\n",
    "class TreeNode:\n",
    "    def __init__(self, x):\n",
    "        self.val = x\n",
    "        self.left = None\n",
    "        self.right = None\n",
    "\n",
    "# [3,9,20,null,null,15,7]\n",
    "#     3\n",
    "#    / \\\n",
    "#   9  20\n",
    "#     /  \\\n",
    "#    15   7\n",
    "root = TreeNode(3)\n",
    "root.left = TreeNode(9)\n",
    "root.right = TreeNode(20)\n",
    "root.right.left = TreeNode(15)\n",
    "root.right.right = TreeNode(7)\n",
    "\n",
    "maxDepth(root)"
   ]
  },
  {
   "cell_type": "code",
   "execution_count": 2,
   "metadata": {},
   "outputs": [],
   "source": [
    "def explore(prev_node, cur_node):\n",
    "    if cur_node.next:\n",
    "        new_head = explore(cur_node, cur_node.next)\n",
    "    else:\n",
    "        new_head = cur_node\n",
    "        \n",
    "    cur_node.next = prev_node\n",
    "    \n",
    "    return new_head\n",
    "    \n",
    "def reverseList(head):\n",
    "    \"\"\"\n",
    "    :type head: ListNode\n",
    "    :rtype: ListNode\n",
    "    \"\"\"\n",
    "    if head and head.next:\n",
    "        new_head = explore(head, head.next)\n",
    "        head.next = None\n",
    "        return new_head\n",
    "    else:\n",
    "        return head\n",
    "def reverseList2(head):\n",
    "    \"\"\"\n",
    "    :type head: ListNode\n",
    "    :rtype: ListNode\n",
    "    \"\"\"\n",
    "    prev = None\n",
    "    while head:\n",
    "        cur = head\n",
    "        head = cur.next\n",
    "        cur.next = prev\n",
    "        prev = cur\n",
    "    return cur"
   ]
  },
  {
   "cell_type": "code",
   "execution_count": 3,
   "metadata": {},
   "outputs": [
    {
     "name": "stdout",
     "output_type": "stream",
     "text": [
      "5\n",
      "4\n",
      "3\n",
      "2\n",
      "1\n",
      "1\n",
      "2\n",
      "3\n",
      "4\n",
      "5\n"
     ]
    }
   ],
   "source": [
    "# Definition for singly-linked list.\n",
    "class ListNode(object):\n",
    "    def __init__(self, x):\n",
    "        self.val = x\n",
    "        self.next = None\n",
    "        \n",
    "# Input: 1->2->3->4->5->NULL\n",
    "# Output: 5->4->3->2->1->NULL\n",
    "head = ListNode(1)\n",
    "node = head\n",
    "for x in [2, 3, 4, 5]:\n",
    "    node.next = ListNode(x)\n",
    "    node = node.next\n",
    "\n",
    "head = reverseList2(head)\n",
    "tmp = head\n",
    "print(tmp.val)\n",
    "while tmp.next:\n",
    "    tmp = tmp.next\n",
    "    print(tmp.val)\n",
    "    \n",
    "head = reverseList(head)\n",
    "tmp = head\n",
    "print(tmp.val)\n",
    "while tmp.next:\n",
    "    tmp = tmp.next\n",
    "    print(tmp.val)"
   ]
  },
  {
   "cell_type": "code",
   "execution_count": 22,
   "metadata": {},
   "outputs": [],
   "source": [
    "# https://leetcode.com/problems/linked-list-cycle/description/\n",
    "# Definition for singly-linked list.\n",
    "class ListNode(object):\n",
    "    def __init__(self, x):\n",
    "        self.val = x\n",
    "        self.next = None\n",
    "head = ListNode(0)\n",
    "node = head\n",
    "for i in range(1, 100):\n",
    "    prev_node = node\n",
    "    node = ListNode(i)\n",
    "    prev_node.next = node\n",
    "node.next = head"
   ]
  },
  {
   "cell_type": "code",
   "execution_count": 23,
   "metadata": {},
   "outputs": [
    {
     "data": {
      "text/plain": [
       "True"
      ]
     },
     "execution_count": 23,
     "metadata": {},
     "output_type": "execute_result"
    }
   ],
   "source": [
    "def hasCycle_space(head):\n",
    "    \"\"\"\n",
    "    :type head: ListNode\n",
    "    :rtype: bool\n",
    "    \"\"\"\n",
    "    address_list = []\n",
    "    if head is None:\n",
    "        return False\n",
    "    else:\n",
    "        node = head\n",
    "        address_list.append(id(node))\n",
    "    while node.next:\n",
    "        node = node.next\n",
    "        if id(node) in address_list:\n",
    "            return True\n",
    "        else:\n",
    "            address_list.append(id(node))\n",
    "    return False\n",
    "hasCycle_space(head)"
   ]
  },
  {
   "cell_type": "markdown",
   "metadata": {},
   "source": [
    ">Now consider a cyclic list and imagine the slow and fast pointers are two runners racing around a circle track. The fast runner will eventually meet the slow runner. Why? Consider this case (we name it case A) - The fast runner is just one step behind the slow runner. In the next iteration, they both increment one and two steps respectively and meet each other."
   ]
  },
  {
   "cell_type": "code",
   "execution_count": 25,
   "metadata": {},
   "outputs": [
    {
     "data": {
      "text/plain": [
       "True"
      ]
     },
     "execution_count": 25,
     "metadata": {},
     "output_type": "execute_result"
    }
   ],
   "source": [
    "def hasCycle(head):\n",
    "    \"\"\"\n",
    "    :type head: ListNode\n",
    "    :rtype: bool\n",
    "    \"\"\"\n",
    "    if head is None:\n",
    "        return False\n",
    "    slow, fast = head, head\n",
    "    while fast.next is not None  and fast.next.next is not None:\n",
    "        fast = fast.next.next\n",
    "        slow = slow.next\n",
    "        if slow == fast:\n",
    "            return True\n",
    "    return False\n",
    "hasCycle(head)"
   ]
  },
  {
   "cell_type": "code",
   "execution_count": 30,
   "metadata": {},
   "outputs": [],
   "source": [
    "#https://leetcode.com/problems/invert-binary-tree/description/\n",
    "#      4\n",
    "#    /   \\\n",
    "#   2     7\n",
    "#  / \\   / \\\n",
    "# 1   3 6   9\n",
    "\n",
    "#      4\n",
    "#    /   \\\n",
    "#   7     2\n",
    "#  / \\   / \\\n",
    "# 9   6 3   1\n",
    "class TreeNode(object):\n",
    "    def __init__(self, x):\n",
    "        self.val = x\n",
    "        self.left = None\n",
    "        self.right = None\n",
    "        \n",
    "root = TreeNode(4)\n",
    "root.left = TreeNode(2)\n",
    "root.right = TreeNode(7)\n",
    "root.left.left = TreeNode(1)\n",
    "root.left.right = TreeNode(3)\n",
    "root.right.left = TreeNode(6)\n",
    "root.right.right = TreeNode(9)\n",
    "\n",
    "def recursive_helper(node):\n",
    "    if node.left or node.right:\n",
    "        node.left, node.right = node.right, node.left\n",
    "        if node.left:\n",
    "            recursive_helper(node.left)\n",
    "        if node.right:\n",
    "            recursive_helper(node.right)\n",
    "def invertTree(root):\n",
    "    \"\"\"\n",
    "    :type root: TreeNode\n",
    "    :rtype: TreeNode\n",
    "    \"\"\"\n",
    "    if root:\n",
    "        recursive_helper(root)\n",
    "    return root\n",
    "\n",
    "invertTree(root)"
   ]
  },
  {
   "cell_type": "code",
   "execution_count": 69,
   "metadata": {},
   "outputs": [
    {
     "name": "stdout",
     "output_type": "stream",
     "text": [
      "True\n",
      "False\n",
      "True\n",
      "True\n",
      "False\n",
      "True\n"
     ]
    }
   ],
   "source": [
    "# https://leetcode.com/problems/same-tree/description/\n",
    "# Definition for a binary tree node.\n",
    "class TreeNode(object):\n",
    "    def __init__(self, x):\n",
    "        self.val = x\n",
    "        self.left = None\n",
    "        self.right = None\n",
    "\n",
    "# Input:     1         1\n",
    "#           / \\       / \\\n",
    "#          2   3     2   3\n",
    "\n",
    "#         [1,2,3],   [1,2,3]\n",
    "\n",
    "# Output: true\n",
    "\n",
    "tree1 = TreeNode(1)\n",
    "tree1.left = TreeNode(2)\n",
    "tree1.right = TreeNode(3)\n",
    "\n",
    "tree2 = TreeNode(1)\n",
    "tree2.left = TreeNode(2)\n",
    "tree2.right = TreeNode(3)\n",
    "\n",
    "# Input:     1         1\n",
    "#           /           \\\n",
    "#          2             2\n",
    "\n",
    "#         [1,2],     [1,null,2]\n",
    "\n",
    "# Output: false\n",
    "\n",
    "tree3 = TreeNode(1)\n",
    "tree3.left = TreeNode(2)\n",
    "\n",
    "tree4 = TreeNode(1)\n",
    "tree4.right = TreeNode(2)\n",
    "\n",
    "# Input:     None , None\n",
    "\n",
    "# Output: true\n",
    "tree5 = None\n",
    "tree6 = None\n",
    "\n",
    "class Solution(object):\n",
    "    def recursive_helper(self, node, l):\n",
    "        if node.left:\n",
    "            self.recursive_helper(node.left, l)\n",
    "            left_value = node.left.val\n",
    "        else:\n",
    "            left_value = None\n",
    "        if node.right:\n",
    "            self.recursive_helper(node.right, l)\n",
    "            right_value = node.right.val\n",
    "        else:\n",
    "            right_value = None\n",
    "        return l.append((left_value, right_value))\n",
    "\n",
    "    def isSameTree(self, p, q):\n",
    "        \"\"\"\n",
    "        :type p: TreeNode\n",
    "        :type q: TreeNode\n",
    "        :rtype: bool\n",
    "        \"\"\"\n",
    "        p_l = []\n",
    "        if p:\n",
    "            self.recursive_helper(p, p_l)\n",
    "            p_l.append(p.val)\n",
    "        \n",
    "        q_l = []\n",
    "        if q:\n",
    "            self.recursive_helper(q, q_l)\n",
    "            q_l.append(q.val)\n",
    "            \n",
    "        if p_l == q_l:\n",
    "            return True\n",
    "        else:\n",
    "            return False\n",
    "    def isSameTree2(self, p, q):\n",
    "        if p and q:\n",
    "            return p.val is q.val and self.isSameTree2(p.left, q.left) and self.isSameTree2(p.right, q.right)\n",
    "        return p is q\n",
    "\n",
    "s = Solution()\n",
    "print(s.isSameTree(tree1, tree2))\n",
    "print(s.isSameTree(tree3, tree4))\n",
    "print(s.isSameTree(tree5, tree6))\n",
    "print(s.isSameTree2(tree1, tree2))\n",
    "print(s.isSameTree2(tree3, tree4))\n",
    "print(s.isSameTree2(tree5, tree6))"
   ]
  },
  {
   "cell_type": "code",
   "execution_count": 138,
   "metadata": {},
   "outputs": [
    {
     "name": "stdout",
     "output_type": "stream",
     "text": [
      "1 4576209272\n",
      "0 4576208936\n",
      "1 4576208768\n"
     ]
    },
    {
     "data": {
      "text/plain": [
       "True"
      ]
     },
     "execution_count": 138,
     "metadata": {},
     "output_type": "execute_result"
    }
   ],
   "source": [
    "# https://leetcode.com/problems/palindrome-linked-list/description/\n",
    "# Definition for singly-linked list.\n",
    "class ListNode(object):\n",
    "    def __init__(self, x):\n",
    "        self.val = x\n",
    "        self.next = None\n",
    "\n",
    "\n",
    "class Solution:\n",
    "    def isPalindrome(self, head):\n",
    "        \"\"\"\n",
    "        :type head: ListNode\n",
    "        :rtype: bool\n",
    "        \"\"\"\n",
    "        stack = []\n",
    "        \n",
    "        while head:\n",
    "            stack.append(head.val)\n",
    "            head = head.next\n",
    "            \n",
    "        return stack == stack[::-1]\n",
    "\n",
    "# Input: 1->2->3->3->2->1\n",
    "# Output: true\n",
    "\n",
    "head = ListNode(1)\n",
    "l = [2,3,3,2,1]\n",
    "l = []\n",
    "l = [2]\n",
    "l = [0, 0]\n",
    "l = [0, 1]\n",
    "prev = head\n",
    "for x in l:\n",
    "    node = ListNode(x)\n",
    "    prev.next = node\n",
    "    prev = node\n",
    "node = head\n",
    "while node:\n",
    "    print(node.val, id(node))\n",
    "    node = node.next\n",
    "\n",
    "s = Solution()\n",
    "s.isPalindrome(head)"
   ]
  },
  {
   "cell_type": "code",
   "execution_count": 5,
   "metadata": {},
   "outputs": [
    {
     "data": {
      "text/plain": [
       "3"
      ]
     },
     "execution_count": 5,
     "metadata": {},
     "output_type": "execute_result"
    }
   ],
   "source": [
    "# https://leetcode.com/problems/diameter-of-binary-tree/description/\n",
    "# Definition for a binary tree node.\n",
    "class TreeNode(object):\n",
    "    def __init__(self, x):\n",
    "        self.val = x\n",
    "        self.left = None\n",
    "        self.right = None\n",
    "\n",
    "#           1\n",
    "#          / \\\n",
    "#         2   3\n",
    "#        / \\     \n",
    "#       4   5  \n",
    "\n",
    "head = TreeNode(1)\n",
    "head.left = TreeNode(2)\n",
    "head.right = TreeNode(3)\n",
    "head.left.left = TreeNode(4)\n",
    "head.left.right = TreeNode(5)\n",
    "\n",
    "# credit: https://leetcode.com/problems/diameter-of-binary-tree/discuss/101118/Python-Simple-with-Explanation\n",
    "class Solution(object):\n",
    "    def diameterOfBinaryTree(self, root):\n",
    "        self.best = 1\n",
    "        def depth(root):\n",
    "            if not root: return 0\n",
    "            ansL = depth(root.left)\n",
    "            ansR = depth(root.right)\n",
    "            self.best = max(self.best, ansL + ansR + 1)\n",
    "            return 1 + max(ansL, ansR)\n",
    "\n",
    "        depth(root)\n",
    "        return self.best - 1\n",
    "\n",
    "Solution().diameterOfBinaryTree(head)"
   ]
  },
  {
   "cell_type": "code",
   "execution_count": 82,
   "metadata": {},
   "outputs": [],
   "source": [
    "# https://leetcode.com/problems/convert-bst-to-greater-tree/description/\n",
    "# Definition for a binary tree node.\n",
    "class Solution(object):\n",
    "    def explore_node(self, node, node_l):\n",
    "        if node.left:\n",
    "            self.explore_node(node.left, node_l)\n",
    "        if node.right:\n",
    "            self.explore_node(node.right, node_l)\n",
    "        node_l.append((node, node.val))\n",
    "        \n",
    "    def convertBST(self, root):\n",
    "        if root:\n",
    "            # add all nodes into dict\n",
    "            node_l = []\n",
    "            self.explore_node(root, node_l)\n",
    "            # sort by value\n",
    "            node_l = sorted(node_l, key=lambda x: x[1], reverse=True)\n",
    "            # loop sorted list\n",
    "            csum = 0\n",
    "            for node, val in node_l:\n",
    "                node.val += csum\n",
    "                csum += val\n",
    "        return root"
   ]
  },
  {
   "cell_type": "code",
   "execution_count": 86,
   "metadata": {},
   "outputs": [
    {
     "data": {
      "text/plain": [
       "(41, 47, 28, 48, 45, 36, 15)"
      ]
     },
     "execution_count": 86,
     "metadata": {},
     "output_type": "execute_result"
    }
   ],
   "source": [
    "class TreeNode(object):\n",
    "    def __init__(self, x):\n",
    "        self.val = x\n",
    "        self.left = None\n",
    "        self.right = None\n",
    "\n",
    "# Input: The root of a Binary Search Tree like this:\n",
    "#               5\n",
    "#             /   \\\n",
    "#            2     13\n",
    "#           / \\    / \\\n",
    "#          1   4   8  15\n",
    "\n",
    "# Output: The root of a Greater Tree like this:\n",
    "#               41\n",
    "#             /   \\\n",
    "#            47     28\n",
    "#           / \\    / \\\n",
    "#          48 45 36  15\n",
    "head = TreeNode(5)\n",
    "head.left = TreeNode(2)\n",
    "head.right = TreeNode(13)\n",
    "head.left.left = TreeNode(1)\n",
    "head.left.right = TreeNode(4)\n",
    "head.right.left = TreeNode(8)\n",
    "head.right.right = TreeNode(15)\n",
    "s = Solution()\n",
    "res_head = s.convertBST(head)\n",
    "res_head.val,res_head.left.val,res_head.right.val,res_head.left.left.val,res_head.left.right.val,res_head.right.left.val,res_head.right.right.val"
   ]
  },
  {
   "cell_type": "code",
   "execution_count": 1,
   "metadata": {},
   "outputs": [],
   "source": [
    "# https://leetcode.com/problems/symmetric-tree/description/\n",
    "# Definition for a binary tree node.\n",
    "class TreeNode(object):\n",
    "    def __init__(self, x):\n",
    "        self.val = x\n",
    "        self.left = None\n",
    "        self.right = None"
   ]
  },
  {
   "cell_type": "code",
   "execution_count": 33,
   "metadata": {},
   "outputs": [],
   "source": [
    "class Solution(object):    \n",
    "    def isSymmetric(self, root):\n",
    "        \"\"\"\n",
    "        :type root: TreeNode\n",
    "        :rtype: bool\n",
    "        \"\"\"\n",
    "        def compare_helper(node1, node2):\n",
    "            if node1 and node2:\n",
    "                return node1.val == node2.val\\\n",
    "                        and compare_helper(node1.left, node2.right)\\\n",
    "                        and compare_helper(node1.right, node2.left)\n",
    "            elif node1 is None and node2 is None:\n",
    "                return True\n",
    "            else:\n",
    "                return False\n",
    "        if root:\n",
    "            return compare_helper(root.left, root.right)\n",
    "        else:\n",
    "            return True"
   ]
  },
  {
   "cell_type": "code",
   "execution_count": 36,
   "metadata": {},
   "outputs": [
    {
     "name": "stdout",
     "output_type": "stream",
     "text": [
      "True\n",
      "False\n"
     ]
    }
   ],
   "source": [
    "#     1\n",
    "#    / \\\n",
    "#   2   2\n",
    "#  / \\ / \\\n",
    "# 3  4 4  3\n",
    "head = TreeNode(1)\n",
    "head.left = TreeNode(2)\n",
    "head.right = TreeNode(2)\n",
    "head.left.left = TreeNode(3)\n",
    "head.left.right = TreeNode(4)\n",
    "head.right.left = TreeNode(4)\n",
    "head.right.right = TreeNode(3)\n",
    "print(Solution().isSymmetric(head))\n",
    "\n",
    "#     1\n",
    "#    / \\\n",
    "#   2   \n",
    "head = TreeNode(1)\n",
    "head.left = TreeNode(2)\n",
    "print(Solution().isSymmetric(head))"
   ]
  },
  {
   "cell_type": "code",
   "execution_count": 8,
   "metadata": {},
   "outputs": [
    {
     "data": {
      "text/plain": [
       "[5, 6]"
      ]
     },
     "execution_count": 8,
     "metadata": {},
     "output_type": "execute_result"
    }
   ],
   "source": [
    "#https://leetcode.com/problems/find-all-numbers-disappeared-in-an-array/description/\n",
    "class Solution(object):\n",
    "    def findDisappearedNumbers(self, nums):\n",
    "        \"\"\"\n",
    "        :type nums: List[int]\n",
    "        :rtype: List[int]\n",
    "        \"\"\"\n",
    "        # For each number i in nums,\n",
    "        # we mark the number that i points as negative.\n",
    "        # Then we filter the list, get all the indexes\n",
    "        # who points to a positive number\n",
    "        for i, num in enumerate(nums):\n",
    "            fact_num = abs(num)\n",
    "            nums[fact_num - 1] = -abs(nums[fact_num - 1])\n",
    "        return [i for i, num in enumerate(nums, 1) if num > 0]\n",
    "\n",
    "nums = [4,3,2,7,8,2,3,1]\n",
    "s = Solution()\n",
    "s.findDisappearedNumbers(nums)"
   ]
  },
  {
   "cell_type": "code",
   "execution_count": 11,
   "metadata": {},
   "outputs": [],
   "source": [
    "# https://leetcode.com/problems/intersection-of-two-linked-lists/description/\n",
    "\n",
    "# Definition for singly-linked list.\n",
    "class ListNode(object):\n",
    "    def __init__(self, x):\n",
    "        self.val = x\n",
    "        self.next = None"
   ]
  },
  {
   "cell_type": "markdown",
   "metadata": {},
   "source": [
    "![get_intersection_node_solution](../code_piece/assets/get_intersection_node_solution.png)"
   ]
  },
  {
   "cell_type": "code",
   "execution_count": 32,
   "metadata": {},
   "outputs": [],
   "source": [
    "class Solution(object):\n",
    "    def getIntersectionNode(self, headA, headB):\n",
    "        \"\"\"\n",
    "        :type head1, head1: ListNode\n",
    "        :rtype: ListNode\n",
    "        \"\"\"\n",
    "        if not headA or not headB:\n",
    "            return None\n",
    "        A_faster_B = 0\n",
    "        nodeA = headA\n",
    "        val_A = nodeA.val\n",
    "        while nodeA.next:\n",
    "            A_faster_B += 1\n",
    "            nodeA = nodeA.next\n",
    "            val_A = nodeA.val\n",
    "        \n",
    "        nodeB = headB\n",
    "        val_B = nodeB.val\n",
    "        while nodeB.next:\n",
    "            A_faster_B -= 1\n",
    "            nodeB = nodeB.next\n",
    "            val_B = nodeB.val\n",
    "        if val_A != val_B:\n",
    "            return None\n",
    "        else:\n",
    "            nodeA = headB\n",
    "            nodeB = headA\n",
    "            while A_faster_B > 0:\n",
    "                nodeB = nodeB.next\n",
    "                A_faster_B -= 1\n",
    "            while A_faster_B < 0:\n",
    "                nodeA = nodeA.next\n",
    "                A_faster_B += 1\n",
    "            while nodeA and nodeB:\n",
    "                if nodeA.val == nodeB.val:\n",
    "                    return nodeA\n",
    "                else:\n",
    "                    nodeA = nodeA.next\n",
    "                    nodeB = nodeB.next\n",
    "            "
   ]
  },
  {
   "cell_type": "code",
   "execution_count": 33,
   "metadata": {},
   "outputs": [
    {
     "data": {
      "text/plain": [
       "31"
      ]
     },
     "execution_count": 33,
     "metadata": {},
     "output_type": "execute_result"
    }
   ],
   "source": [
    "# A:          a1 → a2\n",
    "#                    ↘\n",
    "#                      c1 → c2 → c3\n",
    "#                    ↗            \n",
    "# B:     b1 → b2 → b3\n",
    "headA = ListNode(11)\n",
    "headA.next = ListNode(12)\n",
    "headB = ListNode(21)\n",
    "headB.next = ListNode(22)\n",
    "headB.next.next = ListNode(23)\n",
    "headC = ListNode(31)\n",
    "headC.next = ListNode(32)\n",
    "headC.next.next = ListNode(33)\n",
    "headA.next.next = headC\n",
    "headB.next.next.next = headC\n",
    "s = Solution()\n",
    "s.getIntersectionNode(headA, headB).val"
   ]
  },
  {
   "cell_type": "code",
   "execution_count": 34,
   "metadata": {},
   "outputs": [
    {
     "data": {
      "text/plain": [
       "NoneType"
      ]
     },
     "execution_count": 34,
     "metadata": {},
     "output_type": "execute_result"
    }
   ],
   "source": [
    "headA = []\n",
    "headB = []\n",
    "s = Solution()\n",
    "type(s.getIntersectionNode(headA, headB))"
   ]
  },
  {
   "cell_type": "code",
   "execution_count": 3,
   "metadata": {},
   "outputs": [],
   "source": [
    "# https://leetcode.com/problems/subtree-of-another-tree/description/\n",
    "# Definition for a binary tree node.\n",
    "class TreeNode(object):\n",
    "    def __init__(self, x):\n",
    "        self.val = x\n",
    "        self.left = None\n",
    "        self.right = None"
   ]
  },
  {
   "cell_type": "markdown",
   "metadata": {},
   "source": [
    "![solution_of_subtree_of_another_tree](../code_piece/assets/solution_of_subtree_of_another_tree.gif)"
   ]
  },
  {
   "cell_type": "code",
   "execution_count": 33,
   "metadata": {},
   "outputs": [],
   "source": [
    "class Solution(object):\n",
    "    def isSubtree(self, s, t):\n",
    "        \"\"\"\n",
    "        :type s: TreeNode\n",
    "        :type t: TreeNode\n",
    "        :rtype: bool\n",
    "        \"\"\"\n",
    "        def equals(x, y):\n",
    "            if x is None and y is None:\n",
    "                return True\n",
    "            elif x is None or y is None:\n",
    "                return False\n",
    "            elif x.val == y.val:\n",
    "                return equals(x.left, y.left) and equals(x.right, y.right)\n",
    "            else:\n",
    "                return False\n",
    "        \n",
    "        def traverse(s):\n",
    "            if s is None:\n",
    "                return False\n",
    "            if s.val == t.val and equals(s, t):\n",
    "                return True\n",
    "            else:\n",
    "                return traverse(s.left) or traverse(s.right)\n",
    "        \n",
    "        if s is None or t is None:\n",
    "            return False\n",
    "        else:\n",
    "            return traverse(s)"
   ]
  },
  {
   "cell_type": "code",
   "execution_count": 34,
   "metadata": {},
   "outputs": [
    {
     "data": {
      "text/plain": [
       "True"
      ]
     },
     "execution_count": 34,
     "metadata": {},
     "output_type": "execute_result"
    }
   ],
   "source": [
    "#      3\n",
    "#     / \\\n",
    "#    4   5\n",
    "#   / \\\n",
    "#  1   2\n",
    "\n",
    "#    4 \n",
    "#   / \\\n",
    "#  1   2\n",
    "\n",
    "s = TreeNode(3)\n",
    "s.left = TreeNode(4)\n",
    "s.right = TreeNode(5)\n",
    "s.left.left = TreeNode(1)\n",
    "s.left.right = TreeNode(2)\n",
    "\n",
    "t = TreeNode(4)\n",
    "t.left = TreeNode(1)\n",
    "t.right = TreeNode(2)\n",
    "\n",
    "Solution().isSubtree(s, t)"
   ]
  },
  {
   "cell_type": "code",
   "execution_count": 35,
   "metadata": {},
   "outputs": [
    {
     "data": {
      "text/plain": [
       "False"
      ]
     },
     "execution_count": 35,
     "metadata": {},
     "output_type": "execute_result"
    }
   ],
   "source": [
    "#      3\n",
    "#     / \\\n",
    "#    4   5\n",
    "#   / \\\n",
    "#  1   2\n",
    "\n",
    "#    4 \n",
    "#   / \\\n",
    "#  1   2\n",
    "\n",
    "s = TreeNode(3)\n",
    "s.left = TreeNode(4)\n",
    "s.right = TreeNode(5)\n",
    "s.left.left = TreeNode(1)\n",
    "s.left.right = TreeNode(2)\n",
    "s.left.right.left = TreeNode(0)\n",
    "\n",
    "t = TreeNode(4)\n",
    "t.left = TreeNode(1)\n",
    "t.right = TreeNode(2)\n",
    "\n",
    "\n",
    "Solution().isSubtree(s, t)"
   ]
  },
  {
   "cell_type": "code",
   "execution_count": 36,
   "metadata": {},
   "outputs": [
    {
     "data": {
      "text/plain": [
       "True"
      ]
     },
     "execution_count": 36,
     "metadata": {},
     "output_type": "execute_result"
    }
   ],
   "source": [
    "#      1\n",
    "#     / \n",
    "#    1  \n",
    "\n",
    "#    1 \n",
    "\n",
    "\n",
    "s = TreeNode(1)\n",
    "s.left = TreeNode(1)\n",
    "\n",
    "t = TreeNode(1)\n",
    "\n",
    "Solution().isSubtree(s, t)"
   ]
  },
  {
   "cell_type": "code",
   "execution_count": 1,
   "metadata": {},
   "outputs": [
    {
     "name": "stdout",
     "output_type": "stream",
     "text": [
      "5\n",
      "0\n"
     ]
    }
   ],
   "source": [
    "#https://leetcode.com/problems/best-time-to-buy-and-sell-stock/description/\n",
    "class Solution(object):\n",
    "    def maxProfit(self, prices):\n",
    "        \"\"\"\n",
    "        :type prices: List[int]\n",
    "        :rtype: int\n",
    "        \"\"\"\n",
    "        if len(prices) <= 1:\n",
    "            return 0\n",
    "        else:\n",
    "            tmp_max_profit = 0\n",
    "            tmp_min = tmp_max = prices[0]\n",
    "            for p in prices[1:]:\n",
    "                # every time new min appears, flush max\n",
    "                if p < tmp_min:\n",
    "                    tmp_min = tmp_max = p\n",
    "                elif p > tmp_max:\n",
    "                    tmp_max = p\n",
    "                tmp_max_profit = max(tmp_max_profit, tmp_max - tmp_min)\n",
    "            return tmp_max_profit\n",
    "\n",
    "print(Solution().maxProfit([7,1,5,3,6,4]))\n",
    "print(Solution().maxProfit([7,6,4,3,1]))"
   ]
  },
  {
   "cell_type": "code",
   "execution_count": 15,
   "metadata": {},
   "outputs": [],
   "source": [
    "#https://leetcode.com/problems/merge-two-binary-trees/description/\n",
    "class Solution(object):\n",
    "    def mergeTrees(self, t1, t2):\n",
    "        \"\"\"\n",
    "        :type t1: TreeNode\n",
    "        :type t2: TreeNode\n",
    "        :rtype: TreeNode\n",
    "        \"\"\"\n",
    "        def traverse(inner_t1, inner_t2, cur_node):\n",
    "            if inner_t1:\n",
    "                t1_val = inner_t1.val\n",
    "                t1_left = inner_t1.left\n",
    "                t1_right = inner_t1.right\n",
    "            else:\n",
    "                t1_val = 0\n",
    "                t1_left = None\n",
    "                t1_right = None\n",
    "\n",
    "            if inner_t2:\n",
    "                t2_val = inner_t2.val\n",
    "                t2_left = inner_t2.left\n",
    "                t2_right = inner_t2.right\n",
    "            else:\n",
    "                t2_val = 0\n",
    "                t2_left = None\n",
    "                t2_right = None\n",
    "\n",
    "            cur_node.val =  t1_val + t2_val\n",
    "\n",
    "            if t1_left or t2_left:\n",
    "                cur_node.left = TreeNode(0)\n",
    "                traverse(t1_left, t2_left, cur_node.left)\n",
    "\n",
    "            if t1_right or t2_right:\n",
    "                cur_node.right = TreeNode(0)\n",
    "                traverse(t1_right, t2_right, cur_node.right)\n",
    "            \n",
    "        if t1 or t2:\n",
    "            head = TreeNode(0)\n",
    "            traverse(t1, t2, head)\n",
    "        else:\n",
    "            head = None\n",
    "        \n",
    "        return head\n",
    "        "
   ]
  },
  {
   "cell_type": "code",
   "execution_count": 20,
   "metadata": {},
   "outputs": [
    {
     "data": {
      "text/plain": [
       "(3, 4, 5, 5, 4, 7)"
      ]
     },
     "execution_count": 20,
     "metadata": {},
     "output_type": "execute_result"
    }
   ],
   "source": [
    "# Definition for a binary tree node.\n",
    "class TreeNode(object):\n",
    "    def __init__(self, x):\n",
    "        self.val = x\n",
    "        self.left = None\n",
    "        self.right = None\n",
    "        \n",
    "# \tTree 1                     Tree 2                  \n",
    "#           1                         2                             \n",
    "#          / \\                       / \\                            \n",
    "#         3   2                     1   3                        \n",
    "#        /                           \\   \\                      \n",
    "#       5                             4   7    \n",
    "\n",
    "t1 = TreeNode(1)\n",
    "t1.left = TreeNode(3)\n",
    "t1.right = TreeNode(2)\n",
    "t1.left.left = TreeNode(5)\n",
    "t2 = TreeNode(2)\n",
    "t2.left = TreeNode(1)\n",
    "t2.right = TreeNode(3)\n",
    "t2.left.right = TreeNode(4)\n",
    "t2.right.right = TreeNode(7)\n",
    "# Output: \n",
    "# Merged tree:\n",
    "# \t     3\n",
    "# \t    / \\\n",
    "# \t   4   5\n",
    "# \t  / \\   \\ \n",
    "# \t 5   4   7\n",
    "res_head = Solution().mergeTrees(t1, t2)\n",
    "res_head.val, res_head.left.val, res_head.right.val, res_head.left.left.val, res_head.left.right.val, res_head.right.right.val"
   ]
  },
  {
   "cell_type": "code",
   "execution_count": 13,
   "metadata": {},
   "outputs": [],
   "source": [
    "#https://leetcode.com/problems/search-insert-position/description/\n",
    "class Solution(object):\n",
    "    def searchInsert(self, nums, target):\n",
    "        \"\"\"\n",
    "        :type nums: List[int]\n",
    "        :type target: int\n",
    "        :rtype: int\n",
    "        \"\"\"\n",
    "        if len(nums) == 0 :\n",
    "            return 0\n",
    "        for i in range(len(nums)):\n",
    "            if nums[i] >= target:\n",
    "                return i\n",
    "        return i + 1"
   ]
  },
  {
   "cell_type": "code",
   "execution_count": 14,
   "metadata": {},
   "outputs": [
    {
     "name": "stdout",
     "output_type": "stream",
     "text": [
      "2\n",
      "1\n",
      "4\n",
      "0\n",
      "0\n"
     ]
    }
   ],
   "source": [
    "print(Solution().searchInsert([1,3,5,6], 5))\n",
    "print(Solution().searchInsert([1,3,5,6], 2))\n",
    "print(Solution().searchInsert([1,3,5,6], 7))\n",
    "print(Solution().searchInsert([1,3,5,6], 0))\n",
    "print(Solution().searchInsert([], 0))"
   ]
  },
  {
   "cell_type": "code",
   "execution_count": 27,
   "metadata": {},
   "outputs": [
    {
     "data": {
      "text/plain": [
       "2"
      ]
     },
     "execution_count": 27,
     "metadata": {},
     "output_type": "execute_result"
    }
   ],
   "source": [
    "#https://leetcode.com/problems/hamming-distance/description/\n",
    "class Solution(object):\n",
    "    def hammingDistance(self, x, y):\n",
    "        \"\"\"\n",
    "        :type x: int\n",
    "        :type y: int\n",
    "        :rtype: int\n",
    "        \"\"\"\n",
    "        x = bin(x)[2:]\n",
    "        y = bin(y)[2:]\n",
    "        length = max(len(x), len(y))\n",
    "        x = x.zfill(length)\n",
    "        y = y.zfill(length)\n",
    "        diff_cnt = 0\n",
    "        for a, b in zip(x, y):\n",
    "            if a != b:\n",
    "                diff_cnt += 1\n",
    "        return diff_cnt\n",
    "\n",
    "x = 1\n",
    "y = 4\n",
    "Solution().hammingDistance(x, y)"
   ]
  },
  {
   "cell_type": "code",
   "execution_count": 34,
   "metadata": {},
   "outputs": [],
   "source": [
    "# https://leetcode.com/problems/merge-two-sorted-lists/description/\n",
    "class Solution(object):\n",
    "    def mergeTwoLists(self, l1, l2):\n",
    "        \"\"\"\n",
    "        :type l1: ListNode\n",
    "        :type l2: ListNode\n",
    "        :rtype: ListNode\n",
    "        \"\"\"\n",
    "        def recursive_compare(new_node, n1, n2):\n",
    "            if n1 is None and n2 is None:\n",
    "                pass\n",
    "            elif n1 is None and n2:\n",
    "                new_node.next = n2\n",
    "                new_node = new_node.next\n",
    "                recursive_compare(new_node, n1, n2.next)\n",
    "            elif n2 is None and n1:\n",
    "                new_node.next = n1\n",
    "                new_node = new_node.next\n",
    "                recursive_compare(new_node, n1.next, n2)\n",
    "            elif n2.val <= n1.val:\n",
    "                new_node.next = n2\n",
    "                new_node = new_node.next\n",
    "                recursive_compare(new_node, n1, n2.next)\n",
    "            elif n2.val > n1.val:\n",
    "                new_node.next = n1\n",
    "                new_node = new_node.next\n",
    "                recursive_compare(new_node, n1.next, n2)\n",
    "        new_head = ListNode(-99)\n",
    "        recursive_compare(new_head, l1, l2)\n",
    "        return new_head.next"
   ]
  },
  {
   "cell_type": "code",
   "execution_count": 39,
   "metadata": {},
   "outputs": [
    {
     "name": "stdout",
     "output_type": "stream",
     "text": [
      "1\n",
      "1\n",
      "2\n",
      "3\n",
      "4\n",
      "4\n"
     ]
    }
   ],
   "source": [
    "# Definition for singly-linked list.\n",
    "class ListNode(object):\n",
    "    def __init__(self, x):\n",
    "        self.val = x\n",
    "        self.next = None\n",
    "# Input: 1->2->4, 1->3->4\n",
    "# Output: 1->1->2->3->4->4\n",
    "l1 = ListNode(1)\n",
    "l1.next = ListNode(2)\n",
    "l1.next.next = ListNode(4)\n",
    "l2 = ListNode(1)\n",
    "l2.next = ListNode(3)\n",
    "l2.next.next = ListNode(4)\n",
    "\n",
    "new_head = Solution().mergeTwoLists(l1, l2)\n",
    "node = new_head\n",
    "while node:\n",
    "    print(node.val)\n",
    "    node = node.next"
   ]
  },
  {
   "cell_type": "code",
   "execution_count": 40,
   "metadata": {},
   "outputs": [
    {
     "name": "stdout",
     "output_type": "stream",
     "text": [
      "1\n",
      "3\n",
      "4\n"
     ]
    }
   ],
   "source": [
    "# Definition for singly-linked list.\n",
    "class ListNode(object):\n",
    "    def __init__(self, x):\n",
    "        self.val = x\n",
    "        self.next = None\n",
    "# Input: None, 1->3->4\n",
    "# Output: 1->3->4\n",
    "l1 = None\n",
    "l2 = ListNode(1)\n",
    "l2.next = ListNode(3)\n",
    "l2.next.next = ListNode(4)\n",
    "\n",
    "new_head = Solution().mergeTwoLists(l1, l2)\n",
    "node = new_head\n",
    "while node:\n",
    "    print(node.val)\n",
    "    node = node.next"
   ]
  },
  {
   "cell_type": "code",
   "execution_count": 9,
   "metadata": {},
   "outputs": [],
   "source": [
    "# https://leetcode.com/problems/path-sum-iii/description/\n",
    "# learn from this discusstion: \n",
    "# https://leetcode.com/problems/path-sum-iii/discuss/91958/12-line-Python-O(N)-guaranteed\n",
    "class Solution(object):\n",
    "    def pathSum(self, root, target):\n",
    "        \"\"\"\n",
    "        :type root: TreeNode\n",
    "        :type target: int\n",
    "        :rtype: int\n",
    "        \"\"\"\n",
    "        self.count = 0\n",
    "        def dfs(p, target, path_sum, path_hist):\n",
    "            # path_hist: {path sum value: value appears count}\n",
    "            \n",
    "            if p:\n",
    "                # path_sum: current path sum from root node\n",
    "                path_sum += p.val\n",
    "                self.count += path_hist.get(path_sum - target, 0)\n",
    "                path_hist[path_sum] = path_hist.get(path_sum, 0) + 1\n",
    "                dfs(p.left, target, path_sum, path_hist)\n",
    "                dfs(p.right, target, path_sum, path_hist)\n",
    "                path_hist[path_sum] -= 1\n",
    "        dfs(root, target, 0, {0: 1})\n",
    "        return self.count"
   ]
  },
  {
   "cell_type": "code",
   "execution_count": 10,
   "metadata": {},
   "outputs": [
    {
     "data": {
      "text/plain": [
       "3"
      ]
     },
     "execution_count": 10,
     "metadata": {},
     "output_type": "execute_result"
    }
   ],
   "source": [
    "# root = [10,5,-3,3,2,null,11,3,-2,null,1], sum = 8\n",
    "\n",
    "#       10\n",
    "#      /  \\\n",
    "#     5   -3\n",
    "#    / \\    \\\n",
    "#   3   2   11\n",
    "#  / \\   \\\n",
    "# 3  -2   1\n",
    "\n",
    "class TreeNode(object):\n",
    "    def __init__(self, x):\n",
    "        self.val = x\n",
    "        self.left = None\n",
    "        self.right = None\n",
    "\n",
    "root = TreeNode(10)  \n",
    "root.left = TreeNode(5)\n",
    "root.right = TreeNode(-3)\n",
    "root.left.left = TreeNode(3)\n",
    "root.left.right = TreeNode(2)\n",
    "root.right.right = TreeNode(11)\n",
    "root.left.right.right = TreeNode(1)\n",
    "root.left.left.left = TreeNode(3)\n",
    "root.left.left.right = TreeNode(-2)\n",
    "\n",
    "Solution().pathSum(root, 8)"
   ]
  },
  {
   "cell_type": "code",
   "execution_count": 14,
   "metadata": {},
   "outputs": [],
   "source": [
    "# https://leetcode.com/problems/min-stack/description/\n",
    "class MinStack(object):\n",
    "\n",
    "    def __init__(self):\n",
    "        \"\"\"\n",
    "        initialize your data structure here.\n",
    "        \"\"\"\n",
    "        self.min_stack = []\n",
    "        \n",
    "\n",
    "    def push(self, x):\n",
    "        \"\"\"\n",
    "        :type x: int\n",
    "        :rtype: void\n",
    "        \"\"\"\n",
    "        self.min_stack.append(x)\n",
    "\n",
    "    def pop(self):\n",
    "        \"\"\"\n",
    "        :rtype: void\n",
    "        \"\"\"\n",
    "        self.min_stack.pop()\n",
    "        \n",
    "\n",
    "    def top(self):\n",
    "        \"\"\"\n",
    "        :rtype: int\n",
    "        \"\"\"\n",
    "        return self.min_stack[-1]\n",
    "        \n",
    "\n",
    "    def getMin(self):\n",
    "        \"\"\"\n",
    "        :rtype: int\n",
    "        \"\"\"\n",
    "        return min(self.min_stack)\n"
   ]
  },
  {
   "cell_type": "code",
   "execution_count": 23,
   "metadata": {},
   "outputs": [
    {
     "name": "stdout",
     "output_type": "stream",
     "text": [
      "-3\n",
      "0\n",
      "-2\n"
     ]
    }
   ],
   "source": [
    "minStack = MinStack()\n",
    "minStack.push(-2)\n",
    "\n",
    "minStack.push(0);\n",
    "minStack.push(-3);\n",
    "\n",
    "print(minStack.getMin())\n",
    "\n",
    "minStack.pop()\n",
    "print(minStack.top())\n",
    "\n",
    "print(minStack.getMin())"
   ]
  },
  {
   "cell_type": "code",
   "execution_count": 66,
   "metadata": {},
   "outputs": [
    {
     "data": {
      "text/plain": [
       "\u001b[0;31mDocstring:\u001b[0m D.copy() -> a shallow copy of D\n",
       "\u001b[0;31mType:\u001b[0m      builtin_function_or_method\n"
      ]
     },
     "metadata": {},
     "output_type": "display_data"
    }
   ],
   "source": [
    "a.copy?"
   ]
  },
  {
   "cell_type": "code",
   "execution_count": 87,
   "metadata": {},
   "outputs": [],
   "source": [
    "#https://leetcode.com/problems/find-all-anagrams-in-a-string/description/\n",
    "from collections import Counter\n",
    "class Solution(object):\n",
    "\n",
    "    def findAnagrams(self, s, p):\n",
    "        \"\"\"\n",
    "        :type s: str\n",
    "        :type p: str\n",
    "        :rtype: List[int]\n",
    "        \"\"\"\n",
    "        res = []\n",
    "        pCounter = Counter(p)\n",
    "        sCounter = Counter(s[:len(p)-1])\n",
    "        for i in range(len(p)-1,len(s)):\n",
    "            sCounter[s[i]] += 1   # include a new char in the window\n",
    "            if sCounter == pCounter:    # This step is O(1), since there are at most 26 English letters \n",
    "                res.append(i-len(p)+1)   # append the starting index\n",
    "            sCounter[s[i-len(p)+1]] -= 1   # decrease the count of oldest char in the window\n",
    "            if sCounter[s[i-len(p)+1]] == 0:\n",
    "                del sCounter[s[i-len(p)+1]]   # remove the count if it is 0\n",
    "        return res"
   ]
  },
  {
   "cell_type": "code",
   "execution_count": 88,
   "metadata": {},
   "outputs": [
    {
     "data": {
      "text/plain": [
       "[0, 6]"
      ]
     },
     "execution_count": 88,
     "metadata": {},
     "output_type": "execute_result"
    }
   ],
   "source": [
    "s = \"cbaebabacd\"\n",
    "p = \"abc\"\n",
    "Solution().findAnagrams(s, p)"
   ]
  },
  {
   "cell_type": "code",
   "execution_count": 89,
   "metadata": {},
   "outputs": [
    {
     "data": {
      "text/plain": [
       "[0, 1, 2]"
      ]
     },
     "execution_count": 89,
     "metadata": {},
     "output_type": "execute_result"
    }
   ],
   "source": [
    "s= \"abab\"\n",
    "p= \"ab\"\n",
    "Solution().findAnagrams(s, p)"
   ]
  },
  {
   "cell_type": "code",
   "execution_count": 91,
   "metadata": {},
   "outputs": [],
   "source": [
    "# https://leetcode.com/problems/shortest-unsorted-continuous-subarray/description/\n",
    "class Solution(object):\n",
    "    def findUnsortedSubarray(self, nums):\n",
    "            is_same = [a == b for a, b in zip(nums, sorted(nums))]\n",
    "            return 0 if all(is_same) else len(nums) - is_same.index(False) - is_same[::-1].index(False)"
   ]
  },
  {
   "cell_type": "code",
   "execution_count": null,
   "metadata": {},
   "outputs": [],
   "source": []
  }
 ],
 "metadata": {
  "kernelspec": {
   "display_name": "Python [default]",
   "language": "python",
   "name": "python3"
  },
  "language_info": {
   "codemirror_mode": {
    "name": "ipython",
    "version": 3
   },
   "file_extension": ".py",
   "mimetype": "text/x-python",
   "name": "python",
   "nbconvert_exporter": "python",
   "pygments_lexer": "ipython3",
   "version": "3.6.1"
  }
 },
 "nbformat": 4,
 "nbformat_minor": 2
}
